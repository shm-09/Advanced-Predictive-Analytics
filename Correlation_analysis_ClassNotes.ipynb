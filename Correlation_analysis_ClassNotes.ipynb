{
 "cells": [
  {
   "cell_type": "markdown",
   "metadata": {},
   "source": [
    "#### Pearson Correlation Coefficient..."
   ]
  },
  {
   "cell_type": "code",
   "execution_count": 1,
   "metadata": {},
   "outputs": [
    {
     "data": {
      "text/plain": [
       "0.9929845761480396"
      ]
     },
     "metadata": {},
     "output_type": "display_data"
    },
    {
     "data": {
      "text/plain": [
       "0.9929845761480396"
      ]
     },
     "metadata": {},
     "output_type": "display_data"
    },
    {
     "data": {
      "text/plain": [
       "2.2014339101840284e-14"
      ]
     },
     "metadata": {},
     "output_type": "display_data"
    }
   ],
   "source": [
    "from scipy.stats import pearsonr\n",
    "import scipy.stats as stats\n",
    "experience = [1, 3, 4, 5, 5, 6, 7, 10, 11, 12, 15, 20, 25, 28, 30, 35]\n",
    "salary = [20000, 30000, 40000, 45000, 55000, 60000, 80000, 100000, 130000, 150000, 200000, 230000, 250000, 300000, 350000, 400000]\n",
    "\n",
    "corrl, _ = stats.pearsonr(experience, salary)\n",
    "stat, p = pearsonr(experience, salary)\n",
    "\n",
    "display(corrl)\n",
    "display(stat, p)"
   ]
  },
  {
   "cell_type": "code",
   "execution_count": 2,
   "metadata": {},
   "outputs": [
    {
     "name": "stderr",
     "output_type": "stream",
     "text": [
      "C:\\Users\\shrey\\AppData\\Local\\Temp\\ipykernel_11664\\1804107554.py:7: FutureWarning: The default value of numeric_only in DataFrame.corr is deprecated. In a future version, it will default to False. Select only valid columns or specify the value of numeric_only to silence this warning.\n",
      "  df.corr()\n"
     ]
    },
    {
     "data": {
      "text/html": [
       "<div>\n",
       "<style scoped>\n",
       "    .dataframe tbody tr th:only-of-type {\n",
       "        vertical-align: middle;\n",
       "    }\n",
       "\n",
       "    .dataframe tbody tr th {\n",
       "        vertical-align: top;\n",
       "    }\n",
       "\n",
       "    .dataframe thead th {\n",
       "        text-align: right;\n",
       "    }\n",
       "</style>\n",
       "<table border=\"1\" class=\"dataframe\">\n",
       "  <thead>\n",
       "    <tr style=\"text-align: right;\">\n",
       "      <th></th>\n",
       "      <th>Age</th>\n",
       "      <th>Yrs_in_Company</th>\n",
       "      <th>Experience</th>\n",
       "      <th>Height</th>\n",
       "      <th>Children</th>\n",
       "      <th>Salary</th>\n",
       "    </tr>\n",
       "  </thead>\n",
       "  <tbody>\n",
       "    <tr>\n",
       "      <th>Age</th>\n",
       "      <td>1.000000</td>\n",
       "      <td>0.400034</td>\n",
       "      <td>0.791901</td>\n",
       "      <td>-0.037573</td>\n",
       "      <td>0.239927</td>\n",
       "      <td>0.767315</td>\n",
       "    </tr>\n",
       "    <tr>\n",
       "      <th>Yrs_in_Company</th>\n",
       "      <td>0.400034</td>\n",
       "      <td>1.000000</td>\n",
       "      <td>0.551120</td>\n",
       "      <td>0.182134</td>\n",
       "      <td>-0.540313</td>\n",
       "      <td>0.549378</td>\n",
       "    </tr>\n",
       "    <tr>\n",
       "      <th>Experience</th>\n",
       "      <td>0.791901</td>\n",
       "      <td>0.551120</td>\n",
       "      <td>1.000000</td>\n",
       "      <td>0.188684</td>\n",
       "      <td>-0.063857</td>\n",
       "      <td>0.992985</td>\n",
       "    </tr>\n",
       "    <tr>\n",
       "      <th>Height</th>\n",
       "      <td>-0.037573</td>\n",
       "      <td>0.182134</td>\n",
       "      <td>0.188684</td>\n",
       "      <td>1.000000</td>\n",
       "      <td>-0.330951</td>\n",
       "      <td>0.173324</td>\n",
       "    </tr>\n",
       "    <tr>\n",
       "      <th>Children</th>\n",
       "      <td>0.239927</td>\n",
       "      <td>-0.540313</td>\n",
       "      <td>-0.063857</td>\n",
       "      <td>-0.330951</td>\n",
       "      <td>1.000000</td>\n",
       "      <td>-0.098195</td>\n",
       "    </tr>\n",
       "    <tr>\n",
       "      <th>Salary</th>\n",
       "      <td>0.767315</td>\n",
       "      <td>0.549378</td>\n",
       "      <td>0.992985</td>\n",
       "      <td>0.173324</td>\n",
       "      <td>-0.098195</td>\n",
       "      <td>1.000000</td>\n",
       "    </tr>\n",
       "  </tbody>\n",
       "</table>\n",
       "</div>"
      ],
      "text/plain": [
       "                     Age  Yrs_in_Company  Experience    Height  Children  \\\n",
       "Age             1.000000        0.400034    0.791901 -0.037573  0.239927   \n",
       "Yrs_in_Company  0.400034        1.000000    0.551120  0.182134 -0.540313   \n",
       "Experience      0.791901        0.551120    1.000000  0.188684 -0.063857   \n",
       "Height         -0.037573        0.182134    0.188684  1.000000 -0.330951   \n",
       "Children        0.239927       -0.540313   -0.063857 -0.330951  1.000000   \n",
       "Salary          0.767315        0.549378    0.992985  0.173324 -0.098195   \n",
       "\n",
       "                  Salary  \n",
       "Age             0.767315  \n",
       "Yrs_in_Company  0.549378  \n",
       "Experience      0.992985  \n",
       "Height          0.173324  \n",
       "Children       -0.098195  \n",
       "Salary          1.000000  "
      ]
     },
     "execution_count": 2,
     "metadata": {},
     "output_type": "execute_result"
    }
   ],
   "source": [
    "import pandas as pd\n",
    "import numpy as np\n",
    "np.corrcoef(experience, salary)\n",
    "\n",
    "df = pd.read_excel(\"Datasets//Correlation_analysis.xlsx\", 'Salary_experience')\n",
    "df['Experience'].corr(df['Salary'])\n",
    "df.corr()"
   ]
  },
  {
   "cell_type": "code",
   "execution_count": 3,
   "metadata": {},
   "outputs": [
    {
     "data": {
      "text/plain": [
       "PearsonRResult(statistic=0.7279214281982647, pvalue=0.007276728681840433)"
      ]
     },
     "metadata": {},
     "output_type": "display_data"
    },
    {
     "data": {
      "text/html": [
       "<div>\n",
       "<style scoped>\n",
       "    .dataframe tbody tr th:only-of-type {\n",
       "        vertical-align: middle;\n",
       "    }\n",
       "\n",
       "    .dataframe tbody tr th {\n",
       "        vertical-align: top;\n",
       "    }\n",
       "\n",
       "    .dataframe thead th {\n",
       "        text-align: right;\n",
       "    }\n",
       "</style>\n",
       "<table border=\"1\" class=\"dataframe\">\n",
       "  <thead>\n",
       "    <tr style=\"text-align: right;\">\n",
       "      <th></th>\n",
       "      <th>Company 1</th>\n",
       "      <th>Company 2</th>\n",
       "    </tr>\n",
       "  </thead>\n",
       "  <tbody>\n",
       "    <tr>\n",
       "      <th>Company 1</th>\n",
       "      <td>1.000000</td>\n",
       "      <td>0.727921</td>\n",
       "    </tr>\n",
       "    <tr>\n",
       "      <th>Company 2</th>\n",
       "      <td>0.727921</td>\n",
       "      <td>1.000000</td>\n",
       "    </tr>\n",
       "  </tbody>\n",
       "</table>\n",
       "</div>"
      ],
      "text/plain": [
       "           Company 1  Company 2\n",
       "Company 1   1.000000   0.727921\n",
       "Company 2   0.727921   1.000000"
      ]
     },
     "metadata": {},
     "output_type": "display_data"
    }
   ],
   "source": [
    "df1 = pd.read_excel(\"Datasets//Correlation_analysis.xlsx\", \"Share_prices\")\n",
    "temp = df1.corr()\n",
    "corrl = stats.pearsonr(df1[\"Company 1\"], df1[\"Company 2\"])\n",
    "display(corrl)\n",
    "display(temp)"
   ]
  },
  {
   "cell_type": "code",
   "execution_count": 4,
   "metadata": {},
   "outputs": [
    {
     "data": {
      "text/plain": [
       "PearsonRResult(statistic=-0.1842247018285209, pvalue=0.43685242768272425)"
      ]
     },
     "metadata": {},
     "output_type": "display_data"
    },
    {
     "data": {
      "text/html": [
       "<div>\n",
       "<style scoped>\n",
       "    .dataframe tbody tr th:only-of-type {\n",
       "        vertical-align: middle;\n",
       "    }\n",
       "\n",
       "    .dataframe tbody tr th {\n",
       "        vertical-align: top;\n",
       "    }\n",
       "\n",
       "    .dataframe thead th {\n",
       "        text-align: right;\n",
       "    }\n",
       "</style>\n",
       "<table border=\"1\" class=\"dataframe\">\n",
       "  <thead>\n",
       "    <tr style=\"text-align: right;\">\n",
       "      <th></th>\n",
       "      <th>Age</th>\n",
       "      <th>Call duration</th>\n",
       "    </tr>\n",
       "  </thead>\n",
       "  <tbody>\n",
       "    <tr>\n",
       "      <th>Age</th>\n",
       "      <td>1.000000</td>\n",
       "      <td>-0.184225</td>\n",
       "    </tr>\n",
       "    <tr>\n",
       "      <th>Call duration</th>\n",
       "      <td>-0.184225</td>\n",
       "      <td>1.000000</td>\n",
       "    </tr>\n",
       "  </tbody>\n",
       "</table>\n",
       "</div>"
      ],
      "text/plain": [
       "                    Age  Call duration\n",
       "Age            1.000000      -0.184225\n",
       "Call duration -0.184225       1.000000"
      ]
     },
     "metadata": {},
     "output_type": "display_data"
    }
   ],
   "source": [
    "df2 = pd.read_excel(\"Datasets//Correlation_analysis.xlsx\", \"Age_callduration\")\n",
    "temp = df2.corr()\n",
    "corrl = stats.pearsonr(df2[\"Age\"], df2[\"Call duration\"])\n",
    "display(corrl)\n",
    "display(temp)"
   ]
  },
  {
   "cell_type": "markdown",
   "metadata": {},
   "source": [
    "#### Spearman Correlation Coefficient..."
   ]
  },
  {
   "cell_type": "code",
   "execution_count": 5,
   "metadata": {},
   "outputs": [
    {
     "data": {
      "text/plain": [
       "SpearmanrResult(correlation=0.44056536536212726, pvalue=0.01482435493479472)"
      ]
     },
     "metadata": {},
     "output_type": "display_data"
    },
    {
     "data": {
      "text/plain": [
       "0.44056536536212726"
      ]
     },
     "metadata": {},
     "output_type": "display_data"
    },
    {
     "data": {
      "text/plain": [
       "0.01482435493479472"
      ]
     },
     "metadata": {},
     "output_type": "display_data"
    }
   ],
   "source": [
    "from scipy.stats import spearmanr\n",
    "\n",
    "df3 = pd.read_excel(\"Datasets//Correlation_analysis.xlsx\", \"Salary_engineering\")\n",
    "corrl_spr = stats.spearmanr(df3[\"Degree\"], df3[\"Salary\"])\n",
    "display(corrl_spr)\n",
    "\n",
    "corr_coeff, p_val = spearmanr(df3[\"Degree\"], df3[\"Salary\"])\n",
    "display(corr_coeff, p_val)"
   ]
  },
  {
   "cell_type": "markdown",
   "metadata": {},
   "source": [
    "#### Phi-Coefficient Correlation Test..."
   ]
  },
  {
   "cell_type": "code",
   "execution_count": 6,
   "metadata": {},
   "outputs": [],
   "source": [
    "df4 = pd.read_excel(\"Datasets//Correlation_analysis.xlsx\", \"Customer_churn\")\n",
    "\n",
    "from scipy.stats import chi2_contingency"
   ]
  },
  {
   "cell_type": "code",
   "execution_count": 8,
   "metadata": {},
   "outputs": [
    {
     "data": {
      "text/html": [
       "<div>\n",
       "<style scoped>\n",
       "    .dataframe tbody tr th:only-of-type {\n",
       "        vertical-align: middle;\n",
       "    }\n",
       "\n",
       "    .dataframe tbody tr th {\n",
       "        vertical-align: top;\n",
       "    }\n",
       "\n",
       "    .dataframe thead th {\n",
       "        text-align: right;\n",
       "    }\n",
       "</style>\n",
       "<table border=\"1\" class=\"dataframe\">\n",
       "  <thead>\n",
       "    <tr style=\"text-align: right;\">\n",
       "      <th>Customer churn (Y)</th>\n",
       "      <th>0</th>\n",
       "      <th>1</th>\n",
       "    </tr>\n",
       "    <tr>\n",
       "      <th>Number of handset (X)</th>\n",
       "      <th></th>\n",
       "      <th></th>\n",
       "    </tr>\n",
       "  </thead>\n",
       "  <tbody>\n",
       "    <tr>\n",
       "      <th>0</th>\n",
       "      <td>10</td>\n",
       "      <td>6</td>\n",
       "    </tr>\n",
       "    <tr>\n",
       "      <th>1</th>\n",
       "      <td>9</td>\n",
       "      <td>25</td>\n",
       "    </tr>\n",
       "  </tbody>\n",
       "</table>\n",
       "</div>"
      ],
      "text/plain": [
       "Customer churn (Y)      0   1\n",
       "Number of handset (X)        \n",
       "0                      10   6\n",
       "1                       9  25"
      ]
     },
     "metadata": {},
     "output_type": "display_data"
    }
   ],
   "source": [
    "contingency = pd.crosstab(df4[\"Number of handset (X)\"], df4[\"Customer churn (Y)\"])\n",
    "display(contingency)"
   ]
  },
  {
   "cell_type": "code",
   "execution_count": 16,
   "metadata": {},
   "outputs": [
    {
     "data": {
      "text/plain": [
       "4.562974383301708"
      ]
     },
     "metadata": {},
     "output_type": "display_data"
    },
    {
     "data": {
      "text/plain": [
       "0.03267028765876495"
      ]
     },
     "metadata": {},
     "output_type": "display_data"
    },
    {
     "data": {
      "text/plain": [
       "1"
      ]
     },
     "metadata": {},
     "output_type": "display_data"
    },
    {
     "data": {
      "text/plain": [
       "array([[ 6.08,  9.92],\n",
       "       [12.92, 21.08]])"
      ]
     },
     "metadata": {},
     "output_type": "display_data"
    }
   ],
   "source": [
    "# chi2_contingency() -> Function used to perform ChiSquare test...\n",
    "\n",
    "result = chi2_contingency(contingency)\n",
    "# display(result)\n",
    "c, p, dof, expected = result\n",
    "\n",
    "# c-> Test statistic of the Chi-square test\n",
    "# p -> P-Value of Chi-square test\n",
    "# dof -> Degrees of Freedom\n",
    "# Expected -> Expected Frequency Table\n",
    "\n",
    "display(c)\n",
    "display(p)\n",
    "display(dof)\n",
    "display(expected)"
   ]
  }
 ],
 "metadata": {
  "kernelspec": {
   "display_name": "Python 3.11.0 64-bit",
   "language": "python",
   "name": "python3"
  },
  "language_info": {
   "codemirror_mode": {
    "name": "ipython",
    "version": 3
   },
   "file_extension": ".py",
   "mimetype": "text/x-python",
   "name": "python",
   "nbconvert_exporter": "python",
   "pygments_lexer": "ipython3",
   "version": "3.11.0"
  },
  "orig_nbformat": 4,
  "vscode": {
   "interpreter": {
    "hash": "c261aea317cc0286b3b3261fbba9abdec21eaa57589985bb7a274bf54d6cc0a7"
   }
  }
 },
 "nbformat": 4,
 "nbformat_minor": 2
}
